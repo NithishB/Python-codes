{
 "cells": [
  {
   "cell_type": "code",
   "execution_count": 1,
   "metadata": {},
   "outputs": [],
   "source": [
    "import os\n",
    "import numpy as np\n",
    "from nn.Activations import *\n",
    "import tensorflow as tf"
   ]
  },
  {
   "cell_type": "code",
   "execution_count": 2,
   "metadata": {},
   "outputs": [],
   "source": [
    "class NN(): \n",
    "    \n",
    "    def __init__(self, hidden, in_dim, out_dim, activation):\n",
    "        \n",
    "        self.num_layers = len(hidden)+1\n",
    "        self.in_dim = in_dim\n",
    "        self.out_dim = out_dim\n",
    "        self.activation = activation\n",
    "        self.weights = []\n",
    "        self.biases = []\n",
    "        self.layers = []\n",
    "        self.layer_grads = []\n",
    "        \n",
    "        for i in range(self.num_layers):\n",
    "            if i==0:\n",
    "                self.weights.append(tf.random.normal(shape=(in_dim,hidden[i])))\n",
    "                self.biases.append(tf.random.normal(shape=(hidden[i],)))\n",
    "            elif i==self.num_layers-1:\n",
    "                self.weights.append(tf.random.normal(shape=(hidden[i-1],out_dim)))\n",
    "                self.biases.append(tf.random.normal(shape=(out_dim,)))\n",
    "            else:\n",
    "                self.weights.append(tf.random.normal(shape=(hidden[i-1],hidden[i])))\n",
    "                self.biases.append(tf.random.normal(shape=(hidden[i],)))\n",
    "    \n",
    "    def forward(self, x):\n",
    "        \n",
    "        for i in range(self.num_layers):\n",
    "            if i==0:\n",
    "                z = tf.add(tf.matmul(x,self.weights[i]),self.biases[i])\n",
    "            else:\n",
    "                z = tf.add(tf.matmul(self.layers[i-1],self.weights[i]),self.biases[i])\n",
    "            a = activate(z, function=self.activation)\n",
    "            self.layers.append(a)\n",
    "            self.layer_grads.append(a)\n",
    "        return self.layers[-1]\n",
    "    \n",
    "    def backward(self, x, y, lr=0.001):\n",
    "        self.errors = []\n",
    "        for i in range(self.num_layers-1,-1,-1):\n",
    "            if i==self.num_layers-1:\n",
    "                if self.loss_fn == 'mse':\n",
    "                    err = tf.square(y-self.layers[i])\n",
    "                self.errors.append(tf.reduce_mean(err))\n",
    "                err_delta = err*activate(err, self.activation, grad=True)\n",
    "            else:\n",
    "                err = self.layer_grads[i+1].dot(self.weights[i+1].T)\n",
    "                err_delta = activate(err, self.activation, grad=True)\n",
    "                self.errors.append(err_delta)\n",
    "                \n",
    "            self.layer_grads[i] = err_delta\n",
    "        \n",
    "        for i in range(self.num_layers-1,0,-1):\n",
    "            self.weights[i] -= lr * self.layers[i-1].T.dot(self.layer_grads[i])\n",
    "            self.biases[i] -= lr * self.layer_grads[i]\n",
    "        self.weights[0] -= lr * x[np.newaxis].T.dot(self.layer_grads[0])\n",
    "        self.biases[0] -= lr * self.layer_grads[0]"
   ]
  },
  {
   "cell_type": "code",
   "execution_count": 3,
   "metadata": {},
   "outputs": [],
   "source": [
    "model = NN([4,8],3,1,'relu')"
   ]
  },
  {
   "cell_type": "code",
   "execution_count": 4,
   "metadata": {},
   "outputs": [],
   "source": [
    "sess = tf.Session()"
   ]
  },
  {
   "cell_type": "code",
   "execution_count": 5,
   "metadata": {},
   "outputs": [],
   "source": [
    "sess.run(tf.global_variables_initializer())"
   ]
  },
  {
   "cell_type": "code",
   "execution_count": 6,
   "metadata": {},
   "outputs": [],
   "source": [
    "num_instances = 100\n",
    "inputs =  np.float32(np.random.randint(low=0, high=10, size=(num_instances,3)))\n",
    "outputs = inputs * 10 + 3"
   ]
  },
  {
   "cell_type": "code",
   "execution_count": 7,
   "metadata": {},
   "outputs": [],
   "source": [
    "outs = model.forward(inputs)"
   ]
  },
  {
   "cell_type": "code",
   "execution_count": 10,
   "metadata": {},
   "outputs": [
    {
     "data": {
      "text/plain": [
       "([<tf.Tensor 'mul:0' shape=(100, 4) dtype=float32>,\n",
       "  <tf.Tensor 'mul_1:0' shape=(100, 8) dtype=float32>,\n",
       "  <tf.Tensor 'mul_2:0' shape=(100, 1) dtype=float32>],\n",
       " 3)"
      ]
     },
     "execution_count": 10,
     "metadata": {},
     "output_type": "execute_result"
    }
   ],
   "source": [
    "model.layers, model.num_layers"
   ]
  },
  {
   "cell_type": "code",
   "execution_count": 8,
   "metadata": {},
   "outputs": [
    {
     "name": "stdout",
     "output_type": "stream",
     "text": [
      "[[-0.]\n",
      " [-0.]\n",
      " [-0.]\n",
      " [-0.]\n",
      " [-0.]\n",
      " [-0.]\n",
      " [-0.]\n",
      " [-0.]\n",
      " [-0.]\n",
      " [-0.]\n",
      " [-0.]\n",
      " [-0.]\n",
      " [-0.]\n",
      " [-0.]\n",
      " [-0.]\n",
      " [-0.]\n",
      " [-0.]\n",
      " [-0.]\n",
      " [-0.]\n",
      " [-0.]\n",
      " [-0.]\n",
      " [-0.]\n",
      " [-0.]\n",
      " [-0.]\n",
      " [-0.]\n",
      " [-0.]\n",
      " [-0.]\n",
      " [-0.]\n",
      " [-0.]\n",
      " [-0.]\n",
      " [-0.]\n",
      " [-0.]\n",
      " [-0.]\n",
      " [-0.]\n",
      " [-0.]\n",
      " [-0.]\n",
      " [-0.]\n",
      " [-0.]\n",
      " [-0.]\n",
      " [-0.]\n",
      " [-0.]\n",
      " [-0.]\n",
      " [-0.]\n",
      " [-0.]\n",
      " [-0.]\n",
      " [-0.]\n",
      " [-0.]\n",
      " [-0.]\n",
      " [-0.]\n",
      " [-0.]\n",
      " [-0.]\n",
      " [-0.]\n",
      " [-0.]\n",
      " [-0.]\n",
      " [-0.]\n",
      " [-0.]\n",
      " [-0.]\n",
      " [-0.]\n",
      " [-0.]\n",
      " [-0.]\n",
      " [-0.]\n",
      " [-0.]\n",
      " [-0.]\n",
      " [-0.]\n",
      " [-0.]\n",
      " [-0.]\n",
      " [-0.]\n",
      " [-0.]\n",
      " [-0.]\n",
      " [-0.]\n",
      " [-0.]\n",
      " [-0.]\n",
      " [-0.]\n",
      " [-0.]\n",
      " [-0.]\n",
      " [-0.]\n",
      " [-0.]\n",
      " [-0.]\n",
      " [-0.]\n",
      " [-0.]\n",
      " [-0.]\n",
      " [-0.]\n",
      " [-0.]\n",
      " [-0.]\n",
      " [-0.]\n",
      " [-0.]\n",
      " [-0.]\n",
      " [-0.]\n",
      " [-0.]\n",
      " [-0.]\n",
      " [-0.]\n",
      " [-0.]\n",
      " [-0.]\n",
      " [-0.]\n",
      " [-0.]\n",
      " [-0.]\n",
      " [-0.]\n",
      " [-0.]\n",
      " [-0.]\n",
      " [-0.]]\n"
     ]
    }
   ],
   "source": [
    "print(sess.run(outs))"
   ]
  },
  {
   "cell_type": "code",
   "execution_count": null,
   "metadata": {},
   "outputs": [],
   "source": []
  }
 ],
 "metadata": {
  "kernelspec": {
   "display_name": "Python 3",
   "language": "python",
   "name": "python3"
  },
  "language_info": {
   "codemirror_mode": {
    "name": "ipython",
    "version": 3
   },
   "file_extension": ".py",
   "mimetype": "text/x-python",
   "name": "python",
   "nbconvert_exporter": "python",
   "pygments_lexer": "ipython3",
   "version": "3.6.8"
  }
 },
 "nbformat": 4,
 "nbformat_minor": 2
}
